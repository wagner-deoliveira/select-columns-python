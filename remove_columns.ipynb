{
 "cells": [
  {
   "cell_type": "code",
   "execution_count": 10,
   "metadata": {
    "collapsed": true
   },
   "outputs": [
    {
     "name": "stderr",
     "output_type": "stream",
     "text": [
      "c:\\program files (x86)\\microsoft visual studio\\shared\\python37_64\\lib\\site-packages\\IPython\\core\\interactiveshell.py:3063: DtypeWarning: Columns (2,4,9,11,12,13,14,15,16,17,18,19) have mixed types.Specify dtype option on import or set low_memory=False.\n",
      "  interactivity=interactivity, compiler=compiler, result=result)\n"
     ]
    },
    {
     "data": {
      "text/plain": "   WellID  rowcol    Plate     Row   Column siRNA.ID     Gene      Type  \\\n0  String  String  Integer  String  Integer   String   String    String   \n1   1 A 1     A 1        1       A        1  Control  CONTROL  NegCtrl1   \n2   1 A 1     A 1        1       A        1  Control  CONTROL  NegCtrl1   \n3   1 A 1     A 1        1       A        1  Control  CONTROL  NegCtrl1   \n4   1 A 1     A 1        1       A        1  Control  CONTROL  NegCtrl1   \n\n     Features Raw_value Well_Type    RowId  \\\n0      String      Real    String  Integer   \n1  Parameter1      1253  Negative        1   \n2  Parameter2  544.0231  Negative        2   \n3  Parameter3  1621.362  Negative        3   \n4  Parameter4  2.982415  Negative        4   \n\n  hc_User pre-processing exclusion tag hc_User exclusion tag CE_GESD Outliers  \\\n0                               String                String          Boolean   \n1                                  NaN                   NaN            False   \n2                                  NaN                   NaN            False   \n3                                  NaN                   NaN            False   \n4                                  NaN                   NaN            False   \n\n  hc_GESD exclusion tag hc_Final exclusion tag    IRLS          Norm_value  \\\n0                String                 String  String                Real   \n1                   NaN                    NaN     NaN  -0.177569496284672   \n2                   NaN                    NaN     NaN  -0.195171689891067   \n3                   NaN                    NaN     NaN  -0.168423952556465   \n4                   NaN                    NaN     NaN  -0.208604430628186   \n\n  Operations  \n0    Integer  \n1          1  \n2          2  \n3          3  \n4          4  ",
      "text/html": "<div>\n<style scoped>\n    .dataframe tbody tr th:only-of-type {\n        vertical-align: middle;\n    }\n\n    .dataframe tbody tr th {\n        vertical-align: top;\n    }\n\n    .dataframe thead th {\n        text-align: right;\n    }\n</style>\n<table border=\"1\" class=\"dataframe\">\n  <thead>\n    <tr style=\"text-align: right;\">\n      <th></th>\n      <th>WellID</th>\n      <th>rowcol</th>\n      <th>Plate</th>\n      <th>Row</th>\n      <th>Column</th>\n      <th>siRNA.ID</th>\n      <th>Gene</th>\n      <th>Type</th>\n      <th>Features</th>\n      <th>Raw_value</th>\n      <th>Well_Type</th>\n      <th>RowId</th>\n      <th>hc_User pre-processing exclusion tag</th>\n      <th>hc_User exclusion tag</th>\n      <th>CE_GESD Outliers</th>\n      <th>hc_GESD exclusion tag</th>\n      <th>hc_Final exclusion tag</th>\n      <th>IRLS</th>\n      <th>Norm_value</th>\n      <th>Operations</th>\n    </tr>\n  </thead>\n  <tbody>\n    <tr>\n      <th>0</th>\n      <td>String</td>\n      <td>String</td>\n      <td>Integer</td>\n      <td>String</td>\n      <td>Integer</td>\n      <td>String</td>\n      <td>String</td>\n      <td>String</td>\n      <td>String</td>\n      <td>Real</td>\n      <td>String</td>\n      <td>Integer</td>\n      <td>String</td>\n      <td>String</td>\n      <td>Boolean</td>\n      <td>String</td>\n      <td>String</td>\n      <td>String</td>\n      <td>Real</td>\n      <td>Integer</td>\n    </tr>\n    <tr>\n      <th>1</th>\n      <td>1 A 1</td>\n      <td>A 1</td>\n      <td>1</td>\n      <td>A</td>\n      <td>1</td>\n      <td>Control</td>\n      <td>CONTROL</td>\n      <td>NegCtrl1</td>\n      <td>Parameter1</td>\n      <td>1253</td>\n      <td>Negative</td>\n      <td>1</td>\n      <td>NaN</td>\n      <td>NaN</td>\n      <td>False</td>\n      <td>NaN</td>\n      <td>NaN</td>\n      <td>NaN</td>\n      <td>-0.177569496284672</td>\n      <td>1</td>\n    </tr>\n    <tr>\n      <th>2</th>\n      <td>1 A 1</td>\n      <td>A 1</td>\n      <td>1</td>\n      <td>A</td>\n      <td>1</td>\n      <td>Control</td>\n      <td>CONTROL</td>\n      <td>NegCtrl1</td>\n      <td>Parameter2</td>\n      <td>544.0231</td>\n      <td>Negative</td>\n      <td>2</td>\n      <td>NaN</td>\n      <td>NaN</td>\n      <td>False</td>\n      <td>NaN</td>\n      <td>NaN</td>\n      <td>NaN</td>\n      <td>-0.195171689891067</td>\n      <td>2</td>\n    </tr>\n    <tr>\n      <th>3</th>\n      <td>1 A 1</td>\n      <td>A 1</td>\n      <td>1</td>\n      <td>A</td>\n      <td>1</td>\n      <td>Control</td>\n      <td>CONTROL</td>\n      <td>NegCtrl1</td>\n      <td>Parameter3</td>\n      <td>1621.362</td>\n      <td>Negative</td>\n      <td>3</td>\n      <td>NaN</td>\n      <td>NaN</td>\n      <td>False</td>\n      <td>NaN</td>\n      <td>NaN</td>\n      <td>NaN</td>\n      <td>-0.168423952556465</td>\n      <td>3</td>\n    </tr>\n    <tr>\n      <th>4</th>\n      <td>1 A 1</td>\n      <td>A 1</td>\n      <td>1</td>\n      <td>A</td>\n      <td>1</td>\n      <td>Control</td>\n      <td>CONTROL</td>\n      <td>NegCtrl1</td>\n      <td>Parameter4</td>\n      <td>2.982415</td>\n      <td>Negative</td>\n      <td>4</td>\n      <td>NaN</td>\n      <td>NaN</td>\n      <td>False</td>\n      <td>NaN</td>\n      <td>NaN</td>\n      <td>NaN</td>\n      <td>-0.208604430628186</td>\n      <td>4</td>\n    </tr>\n  </tbody>\n</table>\n</div>"
     },
     "execution_count": 10,
     "metadata": {},
     "output_type": "execute_result"
    }
   ],
   "source": [
    "import pandas as pd\n",
    "df = pd.read_csv('expected_data.txt', sep='\\t')\n",
    "df.shape"
   ]
  },
  {
   "cell_type": "code",
   "execution_count": null,
   "outputs": [],
   "source": [
    "df.head()"
   ],
   "metadata": {
    "collapsed": false,
    "pycharm": {
     "name": "#%%\n"
    }
   }
  },
  {
   "cell_type": "code",
   "execution_count": 5,
   "outputs": [
    {
     "data": {
      "text/plain": "(3455869, 6)"
     },
     "execution_count": 5,
     "metadata": {},
     "output_type": "execute_result"
    }
   ],
   "source": [
    "new_df = df[['WellID', 'Type', 'Features', 'Raw_value', 'Well_Type', 'Norm_value']]\n",
    "new_df.shape"
   ],
   "metadata": {
    "collapsed": false,
    "pycharm": {
     "name": "#%%\n"
    }
   }
  },
  {
   "cell_type": "code",
   "execution_count": 6,
   "outputs": [
    {
     "data": {
      "text/plain": "   WellID      Type    Features Raw_value Well_Type          Norm_value\n0  String    String      String      Real    String                Real\n1   1 A 1  NegCtrl1  Parameter1      1253  Negative  -0.177569496284672\n2   1 A 1  NegCtrl1  Parameter2  544.0231  Negative  -0.195171689891067\n3   1 A 1  NegCtrl1  Parameter3  1621.362  Negative  -0.168423952556465\n4   1 A 1  NegCtrl1  Parameter4  2.982415  Negative  -0.208604430628186",
      "text/html": "<div>\n<style scoped>\n    .dataframe tbody tr th:only-of-type {\n        vertical-align: middle;\n    }\n\n    .dataframe tbody tr th {\n        vertical-align: top;\n    }\n\n    .dataframe thead th {\n        text-align: right;\n    }\n</style>\n<table border=\"1\" class=\"dataframe\">\n  <thead>\n    <tr style=\"text-align: right;\">\n      <th></th>\n      <th>WellID</th>\n      <th>Type</th>\n      <th>Features</th>\n      <th>Raw_value</th>\n      <th>Well_Type</th>\n      <th>Norm_value</th>\n    </tr>\n  </thead>\n  <tbody>\n    <tr>\n      <th>0</th>\n      <td>String</td>\n      <td>String</td>\n      <td>String</td>\n      <td>Real</td>\n      <td>String</td>\n      <td>Real</td>\n    </tr>\n    <tr>\n      <th>1</th>\n      <td>1 A 1</td>\n      <td>NegCtrl1</td>\n      <td>Parameter1</td>\n      <td>1253</td>\n      <td>Negative</td>\n      <td>-0.177569496284672</td>\n    </tr>\n    <tr>\n      <th>2</th>\n      <td>1 A 1</td>\n      <td>NegCtrl1</td>\n      <td>Parameter2</td>\n      <td>544.0231</td>\n      <td>Negative</td>\n      <td>-0.195171689891067</td>\n    </tr>\n    <tr>\n      <th>3</th>\n      <td>1 A 1</td>\n      <td>NegCtrl1</td>\n      <td>Parameter3</td>\n      <td>1621.362</td>\n      <td>Negative</td>\n      <td>-0.168423952556465</td>\n    </tr>\n    <tr>\n      <th>4</th>\n      <td>1 A 1</td>\n      <td>NegCtrl1</td>\n      <td>Parameter4</td>\n      <td>2.982415</td>\n      <td>Negative</td>\n      <td>-0.208604430628186</td>\n    </tr>\n  </tbody>\n</table>\n</div>"
     },
     "execution_count": 6,
     "metadata": {},
     "output_type": "execute_result"
    }
   ],
   "source": [
    "new_df.head()"
   ],
   "metadata": {
    "collapsed": false,
    "pycharm": {
     "name": "#%%\n"
    }
   }
  },
  {
   "cell_type": "code",
   "execution_count": 9,
   "outputs": [],
   "source": [
    "new_df.to_csv(r'exported.txt', index=None, sep='\\t', mode='a')"
   ],
   "metadata": {
    "collapsed": false,
    "pycharm": {
     "name": "#%%\n"
    }
   }
  },
  {
   "cell_type": "code",
   "execution_count": null,
   "outputs": [],
   "source": [],
   "metadata": {
    "collapsed": false,
    "pycharm": {
     "name": "#%%\n"
    }
   }
  }
 ],
 "metadata": {
  "kernelspec": {
   "display_name": "Python 3",
   "language": "python",
   "name": "python3"
  },
  "language_info": {
   "codemirror_mode": {
    "name": "ipython",
    "version": 2
   },
   "file_extension": ".py",
   "mimetype": "text/x-python",
   "name": "python",
   "nbconvert_exporter": "python",
   "pygments_lexer": "ipython2",
   "version": "2.7.6"
  }
 },
 "nbformat": 4,
 "nbformat_minor": 0
}