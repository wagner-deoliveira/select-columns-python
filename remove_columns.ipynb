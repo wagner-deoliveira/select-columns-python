{
 "cells": [
  {
   "cell_type": "code",
   "execution_count": 2,
   "metadata": {
    "collapsed": true
   },
   "outputs": [
    {
     "name": "stdout",
     "output_type": "stream",
     "text": [
      "-b\n"
     ]
    }
   ],
   "source": [
    "arg = [\"a\", \"b\", \"c\"]\n",
    "metafilter = '-' + arg[1]\n",
    "print(metafilter)"
   ]
  },
  {
   "cell_type": "code",
   "execution_count": 4,
   "outputs": [
    {
     "data": {
      "text/plain": "(109, 53)"
     },
     "execution_count": 4,
     "metadata": {},
     "output_type": "execute_result"
    }
   ],
   "source": [
    "import pandas as pd\n",
    "df = pd.read_csv('ResultsTable.txt', sep='\\t')\n",
    "df.shape"
   ],
   "metadata": {
    "collapsed": false,
    "pycharm": {
     "name": "#%%\n"
    }
   }
  },
  {
   "cell_type": "code",
   "execution_count": 5,
   "outputs": [
    {
     "data": {
      "text/plain": "     Cycle   Curve  Sample          Ligand  org_conc Experiment      Fc  \\\n0  Integer  String  String          String      Real     String  String   \n1        1   Fc1:1  buffer         [Blank]  0.00E+00   T200_006       1   \n2        1   Fc2:1  buffer          buffer  0.00E+00   T200_006       2   \n3        1   Fc3:1  buffer          buffer  0.00E+00   T200_006       3   \n4        1   Fc4:1  buffer  anti-human IgG  0.00E+00   T200_006       4   \n\n  SourceInstrument      conc Replicate  ... Initial_ka Initial_kd Initial_kt  \\\n0           String      Real   Integer  ...       Real       Real       Real   \n1             T200  0.00E+00         1  ...        NaN        NaN        NaN   \n2             T200  0.00E+00         1  ...        NaN        NaN        NaN   \n3             T200  0.00E+00         1  ...        NaN        NaN        NaN   \n4             T200  0.00E+00         1  ...        NaN        NaN        NaN   \n\n  Initial_RI Initial_Rmax Kinetics_Notes       KineticsMethod Ligand_Activity  \\\n0       Real       String         String               String         Boolean   \n1        NaN          NaN            NaN  Multi Cycle Kinetic             NaN   \n2        NaN          NaN            NaN  Multi Cycle Kinetic             NaN   \n3        NaN          NaN            NaN  Multi Cycle Kinetic             NaN   \n4        NaN          NaN            NaN  Multi Cycle Kinetic             NaN   \n\n  Ligand_Activity_CI_Lower Ligand_Activity_CI_Upper  \n0                  Boolean                  Boolean  \n1                      NaN                      NaN  \n2                      NaN                      NaN  \n3                      NaN                      NaN  \n4                      NaN                      NaN  \n\n[5 rows x 53 columns]",
      "text/html": "<div>\n<style scoped>\n    .dataframe tbody tr th:only-of-type {\n        vertical-align: middle;\n    }\n\n    .dataframe tbody tr th {\n        vertical-align: top;\n    }\n\n    .dataframe thead th {\n        text-align: right;\n    }\n</style>\n<table border=\"1\" class=\"dataframe\">\n  <thead>\n    <tr style=\"text-align: right;\">\n      <th></th>\n      <th>Cycle</th>\n      <th>Curve</th>\n      <th>Sample</th>\n      <th>Ligand</th>\n      <th>org_conc</th>\n      <th>Experiment</th>\n      <th>Fc</th>\n      <th>SourceInstrument</th>\n      <th>conc</th>\n      <th>Replicate</th>\n      <th>...</th>\n      <th>Initial_ka</th>\n      <th>Initial_kd</th>\n      <th>Initial_kt</th>\n      <th>Initial_RI</th>\n      <th>Initial_Rmax</th>\n      <th>Kinetics_Notes</th>\n      <th>KineticsMethod</th>\n      <th>Ligand_Activity</th>\n      <th>Ligand_Activity_CI_Lower</th>\n      <th>Ligand_Activity_CI_Upper</th>\n    </tr>\n  </thead>\n  <tbody>\n    <tr>\n      <th>0</th>\n      <td>Integer</td>\n      <td>String</td>\n      <td>String</td>\n      <td>String</td>\n      <td>Real</td>\n      <td>String</td>\n      <td>String</td>\n      <td>String</td>\n      <td>Real</td>\n      <td>Integer</td>\n      <td>...</td>\n      <td>Real</td>\n      <td>Real</td>\n      <td>Real</td>\n      <td>Real</td>\n      <td>String</td>\n      <td>String</td>\n      <td>String</td>\n      <td>Boolean</td>\n      <td>Boolean</td>\n      <td>Boolean</td>\n    </tr>\n    <tr>\n      <th>1</th>\n      <td>1</td>\n      <td>Fc1:1</td>\n      <td>buffer</td>\n      <td>[Blank]</td>\n      <td>0.00E+00</td>\n      <td>T200_006</td>\n      <td>1</td>\n      <td>T200</td>\n      <td>0.00E+00</td>\n      <td>1</td>\n      <td>...</td>\n      <td>NaN</td>\n      <td>NaN</td>\n      <td>NaN</td>\n      <td>NaN</td>\n      <td>NaN</td>\n      <td>NaN</td>\n      <td>Multi Cycle Kinetic</td>\n      <td>NaN</td>\n      <td>NaN</td>\n      <td>NaN</td>\n    </tr>\n    <tr>\n      <th>2</th>\n      <td>1</td>\n      <td>Fc2:1</td>\n      <td>buffer</td>\n      <td>buffer</td>\n      <td>0.00E+00</td>\n      <td>T200_006</td>\n      <td>2</td>\n      <td>T200</td>\n      <td>0.00E+00</td>\n      <td>1</td>\n      <td>...</td>\n      <td>NaN</td>\n      <td>NaN</td>\n      <td>NaN</td>\n      <td>NaN</td>\n      <td>NaN</td>\n      <td>NaN</td>\n      <td>Multi Cycle Kinetic</td>\n      <td>NaN</td>\n      <td>NaN</td>\n      <td>NaN</td>\n    </tr>\n    <tr>\n      <th>3</th>\n      <td>1</td>\n      <td>Fc3:1</td>\n      <td>buffer</td>\n      <td>buffer</td>\n      <td>0.00E+00</td>\n      <td>T200_006</td>\n      <td>3</td>\n      <td>T200</td>\n      <td>0.00E+00</td>\n      <td>1</td>\n      <td>...</td>\n      <td>NaN</td>\n      <td>NaN</td>\n      <td>NaN</td>\n      <td>NaN</td>\n      <td>NaN</td>\n      <td>NaN</td>\n      <td>Multi Cycle Kinetic</td>\n      <td>NaN</td>\n      <td>NaN</td>\n      <td>NaN</td>\n    </tr>\n    <tr>\n      <th>4</th>\n      <td>1</td>\n      <td>Fc4:1</td>\n      <td>buffer</td>\n      <td>anti-human IgG</td>\n      <td>0.00E+00</td>\n      <td>T200_006</td>\n      <td>4</td>\n      <td>T200</td>\n      <td>0.00E+00</td>\n      <td>1</td>\n      <td>...</td>\n      <td>NaN</td>\n      <td>NaN</td>\n      <td>NaN</td>\n      <td>NaN</td>\n      <td>NaN</td>\n      <td>NaN</td>\n      <td>Multi Cycle Kinetic</td>\n      <td>NaN</td>\n      <td>NaN</td>\n      <td>NaN</td>\n    </tr>\n  </tbody>\n</table>\n<p>5 rows × 53 columns</p>\n</div>"
     },
     "execution_count": 5,
     "metadata": {},
     "output_type": "execute_result"
    }
   ],
   "source": [
    "df.head()"
   ],
   "metadata": {
    "collapsed": false,
    "pycharm": {
     "name": "#%%\n"
    }
   }
  },
  {
   "cell_type": "code",
   "execution_count": 6,
   "outputs": [
    {
     "data": {
      "text/plain": "(109, 51)"
     },
     "execution_count": 6,
     "metadata": {},
     "output_type": "execute_result"
    }
   ],
   "source": [
    "new_df = df.drop(['kt', 'kt_SE'], axis='columns')\n",
    "# new_df = df[['X', 'Y', 'Cycle', 'Curve', 'Experiment']]\n",
    "new_df.shape"
   ],
   "metadata": {
    "collapsed": false,
    "pycharm": {
     "name": "#%%\n"
    }
   }
  },
  {
   "cell_type": "code",
   "execution_count": 7,
   "outputs": [
    {
     "data": {
      "text/plain": "Index(['Cycle', 'Curve', 'Sample', 'Ligand', 'org_conc', 'Experiment', 'Fc',\n       'SourceInstrument', 'conc', 'Replicate', 'RefValues', 'ref_curve',\n       'ref_cycle', 'BlankValues', 'User_Validation', 'kd', 'kd_SE',\n       'kd_CI_Lower', 'kd_CI_Upper', 'ka', 'ka_SE', 'ka_CI_Lower',\n       'ka_CI_Upper', 'kt', 'kt_SE', 'kt_CI_Lower', 'kt_CI_Upper',\n       'KD_kinetics', 'KD_kinetics_SE', 'Rmax', 'Rmax_SE', 'Rmax_CI_Lower',\n       'Rmax_CI_Upper', 'RI', 'Rmax_fitting_mode', 'kt_fitting_mode',\n       'RI_fitting_mode', 'MAE', 'CHIsquare', 'Validation',\n       'Injection_Start_Time', 'Injection_Stop_time', 'Dissociation_End_Time',\n       'Initial_ka', 'Initial_kd', 'Initial_kt', 'Initial_RI', 'Initial_Rmax',\n       'Kinetics_Notes', 'KineticsMethod', 'Ligand_Activity',\n       'Ligand_Activity_CI_Lower', 'Ligand_Activity_CI_Upper'],\n      dtype='object')"
     },
     "execution_count": 7,
     "metadata": {},
     "output_type": "execute_result"
    }
   ],
   "source": [
    "df.columns"
   ],
   "metadata": {
    "collapsed": false,
    "pycharm": {
     "name": "#%%\n"
    }
   }
  },
  {
   "cell_type": "code",
   "execution_count": 5,
   "outputs": [],
   "source": [
    "new_df.to_csv(r'ResultsTable2.txt', index=None, sep='\\t', mode='a')"
   ],
   "metadata": {
    "collapsed": false,
    "pycharm": {
     "name": "#%%\n"
    }
   }
  },
  {
   "cell_type": "code",
   "execution_count": 11,
   "outputs": [
    {
     "data": {
      "text/plain": "'15:57:45'"
     },
     "execution_count": 11,
     "metadata": {},
     "output_type": "execute_result"
    }
   ],
   "source": [
    "from datetime import datetime\n",
    "#now = datetime.today().timestamp()\n",
    "now = datetime.now().strftime(\"%H:%M:%S\")\n",
    "now"
   ],
   "metadata": {
    "collapsed": false,
    "pycharm": {
     "name": "#%%\n"
    }
   }
  },
  {
   "cell_type": "code",
   "execution_count": 53,
   "outputs": [
    {
     "data": {
      "text/plain": "[52, 2]"
     },
     "execution_count": 53,
     "metadata": {},
     "output_type": "execute_result"
    }
   ],
   "source": [
    "import re\n",
    "date_test = \"52m 2s\"\n",
    "\n",
    "def hms_to_seconds(str_date):\n",
    "    tup = str_date.split()\n",
    "    data=[]\n",
    "    for i in tup:\n",
    "        temp = re.compile(\"([0-9]+)\")\n",
    "        res = temp.match(i).groups()\n",
    "        res_to_int = int(res[0])\n",
    "        data.append(res_to_int)\n",
    "    return data\n",
    "\n",
    "hms_to_seconds(date_test)"
   ],
   "metadata": {
    "collapsed": false,
    "pycharm": {
     "name": "#%%\n"
    }
   }
  },
  {
   "cell_type": "code",
   "execution_count": 52,
   "outputs": [
    {
     "data": {
      "text/plain": "[2, 2]"
     },
     "execution_count": 52,
     "metadata": {},
     "output_type": "execute_result"
    }
   ],
   "source": [
    "tup = date_test.split()\n",
    "data=[]\n",
    "for i in tup:\n",
    "    temp = re.compile(\"([0-9]+)\")\n",
    "    res = temp.match(i).groups()\n",
    "    res_to_int = int(res[0])\n",
    "    data.append(res_to_int)\n",
    "data"
   ],
   "metadata": {
    "collapsed": false,
    "pycharm": {
     "name": "#%%\n"
    }
   }
  },
  {
   "cell_type": "code",
   "execution_count": 68,
   "outputs": [
    {
     "data": {
      "text/plain": "'121'"
     },
     "execution_count": 68,
     "metadata": {},
     "output_type": "execute_result"
    }
   ],
   "source": [
    "test_Data = \"2m 1s\"\n",
    "def hms_to_seconds(str_date):\n",
    "    string = ''\n",
    "    tup = str_date.split()\n",
    "    data=[]\n",
    "    for i in tup:\n",
    "        temp = re.compile(\"([0-9]+)\")\n",
    "        res = temp.match(i).groups()\n",
    "        res_to_int = int(res[0])\n",
    "        data.append(res_to_int)\n",
    "\n",
    "    if len(data) == 1:\n",
    "        sec = data\n",
    "    elif len(data) == 2:\n",
    "        m, s = data\n",
    "        sec = 60*m + s\n",
    "    else:\n",
    "        h, m, s = data\n",
    "        sec = 3600*h + 60*m + s\n",
    "    ffff = f'{sec}'\n",
    "    return ffff\n",
    "\n",
    "seconds = hms_to_seconds(test_Data)\n",
    "seconds\n",
    "#type(seconds)\n"
   ],
   "metadata": {
    "collapsed": false,
    "pycharm": {
     "name": "#%%\n"
    }
   }
  },
  {
   "cell_type": "code",
   "execution_count": 14,
   "outputs": [
    {
     "data": {
      "text/plain": "'3122'"
     },
     "execution_count": 14,
     "metadata": {},
     "output_type": "execute_result"
    }
   ],
   "source": [
    "import re\n",
    "date_test = \"52m 2s\"\n",
    "def parse_duration_string_to_seconds(str_date: \"duration_string\") -> 'time_in_seconds':\n",
    "    tup = str_date.split()\n",
    "    data = []\n",
    "    for i in tup:\n",
    "        temp = re.compile(\"([0-9]+)\")\n",
    "        res = temp.match(i).groups()\n",
    "        res_to_int = int(res[0])\n",
    "        data.append(res_to_int)\n",
    "\n",
    "    if len(data) == 1:\n",
    "        sec = data[0]\n",
    "    elif len(data) == 2:\n",
    "        m, s = data\n",
    "        sec = 60 * m + s\n",
    "    else:\n",
    "        h, m, s = data\n",
    "        sec = 3600 * h + 60 * m + s\n",
    "\n",
    "    total_seconds = f'{sec}'\n",
    "    return total_seconds\n",
    "\n",
    "seconds = parse_duration_string_to_seconds(date_test)\n",
    "seconds"
   ],
   "metadata": {
    "collapsed": false,
    "pycharm": {
     "name": "#%%\n"
    }
   }
  },
  {
   "cell_type": "code",
   "execution_count": 61,
   "outputs": [
    {
     "data": {
      "text/plain": "'5430'"
     },
     "execution_count": 61,
     "metadata": {},
     "output_type": "execute_result"
    }
   ],
   "source": [
    "test2 = \"1h 30m 30s\"\n",
    "seconds2 = parse_duration_string_to_seconds(test2)\n",
    "seconds2"
   ],
   "metadata": {
    "collapsed": false,
    "pycharm": {
     "name": "#%%\n"
    }
   }
  },
  {
   "cell_type": "code",
   "execution_count": 90,
   "outputs": [
    {
     "data": {
      "text/plain": "{'h': '1', 's': '30'}"
     },
     "execution_count": 90,
     "metadata": {},
     "output_type": "execute_result"
    }
   ],
   "source": [
    "test3 = \"1h 10m 10s\"\n",
    "x = test2.replace(\" \", \"\")\n",
    "dict_new = re.findall('\\d+|\\D+', x)\n",
    "b = dict(zip(dict_new[::2], dict_new[1::2]))\n",
    "inv_map = {v: k for k, v in b.items()}\n",
    "inv_map"
   ],
   "metadata": {
    "collapsed": false,
    "pycharm": {
     "name": "#%%\n"
    }
   }
  },
  {
   "cell_type": "code",
   "execution_count": 79,
   "outputs": [
    {
     "name": "stdout",
     "output_type": "stream",
     "text": [
      "<class 'int'>\n"
     ]
    }
   ],
   "source": [
    "if \"s\" in inv_map:\n",
    "    y = int(inv_map.get(\"s\"))\n",
    "    print(type(y))\n",
    "else:\n",
    "    print(\"not this time\")"
   ],
   "metadata": {
    "collapsed": false,
    "pycharm": {
     "name": "#%%\n"
    }
   }
  },
  {
   "cell_type": "code",
   "execution_count": 29,
   "outputs": [],
   "source": [
    "import re\n",
    "def parse_duration_string_to_seconds2(str_date: \"duration_string\") -> 'time_in_seconds':\n",
    "    if \":\" in str_date:\n",
    "        if str_date.count(\":\") == 1:\n",
    "            m, s = str_date.split(':')\n",
    "            return f'{int(m) * 60 + int(s)}'\n",
    "        else:\n",
    "            h, m, s = str_date.split(':')\n",
    "            return f'{int(h) * 3600 + int(m) * 60 + int(s)}'\n",
    "\n",
    "    stripped_spaces = str_date.replace(\" \", \"\")\n",
    "    new_dict = re.findall('\\d+|\\D+', stripped_spaces)\n",
    "    nums = new_dict[::2]\n",
    "    keys = new_dict[1::2]\n",
    "    final_dict = dict(zip(keys, nums))\n",
    "    s, m, h = 0, 0, 0\n",
    "    if \"s\" in final_dict:\n",
    "        s = int(final_dict.get(\"s\"))\n",
    "\n",
    "    if \"m\" in final_dict:\n",
    "        m = int(final_dict.get(\"m\")) * 60\n",
    "\n",
    "    if \"h\" in final_dict:\n",
    "        h = int(final_dict.get(\"h\")) * 3600\n",
    "\n",
    "    sec = s + m + h\n",
    "    total_seconds = f'{sec}'\n",
    "\n",
    "    return total_seconds"
   ],
   "metadata": {
    "collapsed": false,
    "pycharm": {
     "name": "#%%\n"
    }
   }
  },
  {
   "cell_type": "code",
   "execution_count": 34,
   "outputs": [
    {
     "data": {
      "text/plain": "'7262'"
     },
     "execution_count": 34,
     "metadata": {},
     "output_type": "execute_result"
    }
   ],
   "source": [
    "test4=\"2h 1m 2s\"\n",
    "parse_duration_string_to_seconds2(test4)\n",
    "# my_var=test4.split(\":\")\n",
    "# my_dict = {}\n",
    "# test4.count(\":\")"
   ],
   "metadata": {
    "collapsed": false,
    "pycharm": {
     "name": "#%%\n"
    }
   }
  },
  {
   "cell_type": "code",
   "execution_count": 18,
   "outputs": [
    {
     "data": {
      "text/plain": "[1, 23]"
     },
     "execution_count": 18,
     "metadata": {},
     "output_type": "execute_result"
    }
   ],
   "source": [
    "a_string = \"0abc 1 def 23\"\n",
    "\n",
    "numbers = [int(word) for word in a_string.split() if word.isdigit()]\n",
    "numbers"
   ],
   "metadata": {
    "collapsed": false,
    "pycharm": {
     "name": "#%%\n"
    }
   }
  },
  {
   "cell_type": "code",
   "execution_count": 4,
   "outputs": [
    {
     "data": {
      "text/plain": "'SDFC-141'"
     },
     "execution_count": 4,
     "metadata": {},
     "output_type": "execute_result"
    }
   ],
   "source": [
    "import re\n",
    "text=\"sdfc-141\"\n",
    "\n",
    "def parse_jira_id(issue_id: \"Issue in Jira\") -> 'short_name':\n",
    "    try:\n",
    "        jira_id = re.findall('[a-zA-z]+-\\d+', issue_id.upper())\n",
    "        jira_id = jira_id[0]\n",
    "    except IndexError:\n",
    "        jira_id = issue_id\n",
    "\n",
    "    return jira_id\n",
    "\n",
    "parse_jira_id(text)"
   ],
   "metadata": {
    "collapsed": false,
    "pycharm": {
     "name": "#%%ç\n"
    }
   }
  },
  {
   "cell_type": "code",
   "execution_count": 46,
   "outputs": [
    {
     "data": {
      "text/plain": "{'project': {'name': 'STL',\n  'jira': 'https://jira-ext.perkinelmer.com/projects/STL',\n  's3': 'http://sss-alpha-s3-swat-automation.s3-website-us-east-1.amazonaws.com/projects/stl/Test-Translational-Apps/',\n  'github': 'https://github.com/PerkinElmer/signals-analytics-apps',\n  'framework': 'SWAT',\n  'report': 'Serenity',\n  'db': 'pirate',\n  'mailto': 'wagner.deoliveira@perkinelmer.com'}}"
     },
     "execution_count": 46,
     "metadata": {},
     "output_type": "execute_result"
    }
   ],
   "source": [
    "def get_domain(param):\n",
    "    domain = 'Translational'\n",
    "    if (param == 'sprapps'):\n",
    "        domain = 'SPR'\n",
    "    if (param == 'screeningapps'):\n",
    "        domain = 'Screening'\n",
    "    if (param == 'dashboard'):\n",
    "        domain = 'Signals Data Factory Spotfire Connector'\n",
    "    if (param == 'gemini'):\n",
    "        domain = 'Gemini'\n",
    "    if (param == 'sdk'):\n",
    "        domain = 'SDK'\n",
    "    return domain\n",
    "\n",
    "def generate_project(domain):\n",
    "    name = 'STL'\n",
    "    jira = 'https://jira-ext.perkinelmer.com/projects/STL'\n",
    "    s3 = 'http://sss-alpha-s3-swat-automation.s3-website-us-east-1.amazonaws.com/projects/stl/Test-Translational-Apps/'\n",
    "    github = 'https://github.com/PerkinElmer/signals-analytics-apps'\n",
    "    framework = 'SWAT'\n",
    "    report = 'Serenity'\n",
    "    if domain == 'SPR':\n",
    "        name = 'SSC'\n",
    "        jira = 'https://jira-ext.perkinelmer.com/projects/SSC'\n",
    "        s3 = 'http://sss-alpha-s3-swat-automation.s3-website-us-east-1.amazonaws.com/projects/ssc/Test-SPR-Apps/'\n",
    "    if domain == 'Screening':\n",
    "        name = 'SSC'\n",
    "        jira = 'https://jira-ext.perkinelmer.com/projects/SSC'\n",
    "        s3 = 'http://sss-alpha-s3-swat-automation.s3-website-us-east-1.amazonaws.com/projects/ssc/Test-Screening-Apps/'\n",
    "    if domain == 'SpotfireConnector':\n",
    "        name = 'SDFC'\n",
    "        jira = 'https://jira-ext.perkinelmer.com/projects/SDFC'\n",
    "        s3 = 'http://sss-alpha-s3-swat-automation.s3-website-us-east-1.amazonaws.com/projects/sdf/Test-Signals-Connector/'\n",
    "        github = 'https://github.com/PerkinElmer/spotfire-signals-tools'\n",
    "    if domain == 'Gemini':\n",
    "        name = 'GEM'\n",
    "        jira = 'https://jira-ext.perkinelmer.com/projects/GEM'\n",
    "        s3 = 'na'\n",
    "        github = 'na'\n",
    "        framework = 'Gemini Automation Framework'\n",
    "    if domain == 'SDK':\n",
    "        name = 'SATK'\n",
    "        jira = 'https://jira-ext.perkinelmer.com/projects/SATK'\n",
    "        s3 = 'http://sss-alpha-s3-swat-automation.s3-website-us-east-1.amazonaws.com/projects/sdk/Test-SDK-Apps/'\n",
    "        github = 'https://github.com/PerkinElmer/signals-apps-sdk'\n",
    "    data = {}\n",
    "    data['project'] = {'name': name, 'jira': jira, 's3': s3, 'github': github, 'framework': framework,\n",
    "                       'report': report, 'db': 'pirate', 'mailto': 'wagner.deoliveira@perkinelmer.com'}\n",
    "    return data\n",
    "\n",
    "domain = 'Signals Data Factory Spotfire Connector'\n",
    "get_domain(domain)\n",
    "if domain == 'Signals Data Factory Spotfire Connector':\n",
    "    domain = 'SpotfireConnector'\n",
    "generate_project(domain)"
   ],
   "metadata": {
    "collapsed": false,
    "pycharm": {
     "name": "#%%\n"
    }
   }
  },
  {
   "cell_type": "code",
   "execution_count": 4,
   "outputs": [
    {
     "data": {
      "text/plain": "    Cmpd ID Route      Animal ID  Actual time (h)  Concentration\n0  4052527A    IV  Rat 1 -20M349         0.250000           74.4\n1  4052527A    IV  Rat 1 -20M349         0.500000          117.0\n2  4052527A    IV  Rat 1 -20M349         1.000000          154.0\n3  4052527A    IV  Rat 1 -20M349         1.083333           99.1\n4  4052527A    IV  Rat 1 -20M349         1.250000           55.2",
      "text/html": "<div>\n<style scoped>\n    .dataframe tbody tr th:only-of-type {\n        vertical-align: middle;\n    }\n\n    .dataframe tbody tr th {\n        vertical-align: top;\n    }\n\n    .dataframe thead th {\n        text-align: right;\n    }\n</style>\n<table border=\"1\" class=\"dataframe\">\n  <thead>\n    <tr style=\"text-align: right;\">\n      <th></th>\n      <th>Cmpd ID</th>\n      <th>Route</th>\n      <th>Animal ID</th>\n      <th>Actual time (h)</th>\n      <th>Concentration</th>\n    </tr>\n  </thead>\n  <tbody>\n    <tr>\n      <th>0</th>\n      <td>4052527A</td>\n      <td>IV</td>\n      <td>Rat 1 -20M349</td>\n      <td>0.250000</td>\n      <td>74.4</td>\n    </tr>\n    <tr>\n      <th>1</th>\n      <td>4052527A</td>\n      <td>IV</td>\n      <td>Rat 1 -20M349</td>\n      <td>0.500000</td>\n      <td>117.0</td>\n    </tr>\n    <tr>\n      <th>2</th>\n      <td>4052527A</td>\n      <td>IV</td>\n      <td>Rat 1 -20M349</td>\n      <td>1.000000</td>\n      <td>154.0</td>\n    </tr>\n    <tr>\n      <th>3</th>\n      <td>4052527A</td>\n      <td>IV</td>\n      <td>Rat 1 -20M349</td>\n      <td>1.083333</td>\n      <td>99.1</td>\n    </tr>\n    <tr>\n      <th>4</th>\n      <td>4052527A</td>\n      <td>IV</td>\n      <td>Rat 1 -20M349</td>\n      <td>1.250000</td>\n      <td>55.2</td>\n    </tr>\n  </tbody>\n</table>\n</div>"
     },
     "execution_count": 4,
     "metadata": {},
     "output_type": "execute_result"
    }
   ],
   "source": [
    "import pandas as pd\n",
    "excel = pd.ExcelFile('C:/Users/DeOliW20137/Desktop/Bug_SSIV-156.xlsx')\n",
    "mass_spec = pd.read_excel(excel, 'Mass Spec')\n",
    "mass_spec.head()"
   ],
   "metadata": {
    "collapsed": false,
    "pycharm": {
     "name": "#%%\n"
    }
   }
  },
  {
   "cell_type": "code",
   "execution_count": 5,
   "outputs": [
    {
     "data": {
      "text/plain": "'SDFC-131-SCENARIO1'"
     },
     "execution_count": 5,
     "metadata": {},
     "output_type": "execute_result"
    }
   ],
   "source": [
    "'sdfc-131-scenario1'.upper()\n"
   ],
   "metadata": {
    "collapsed": false,
    "pycharm": {
     "name": "#%%\n"
    }
   }
  },
  {
   "cell_type": "code",
   "execution_count": 47,
   "outputs": [
    {
     "data": {
      "text/plain": "'jose.sierra@perkinelmer.com'"
     },
     "execution_count": 47,
     "metadata": {},
     "output_type": "execute_result"
    }
   ],
   "source": [
    "import config\n",
    "users_apps ={'sprapps': config.username_spr, 'screeningapps': config.username_screening,\n",
    "              'dashboard': config.username_translational, 'gemini': config.username_gemini,\n",
    "              'sdk': config.username_translational, 'invivoapps': config.username_invivo}\n",
    "\n",
    "pass_apps ={'sprapps': config.password_spr, 'screeningapps': config.password_screening,\n",
    "              'dashboard': config.password_translational, 'gemini': config.password_gemini,\n",
    "              'sdk': config.password_translational, 'invivoapps': config.password_invivo}\n",
    "def get_username(param):\n",
    "    username = config.username_translational\n",
    "    if param in users_apps.keys():\n",
    "        username = users_apps.get(param)\n",
    "    return username\n",
    "\n",
    "param = 'translationalapps'\n",
    "get_username(param)"
   ],
   "metadata": {
    "collapsed": false,
    "pycharm": {
     "name": "#%%\n"
    }
   }
  },
  {
   "cell_type": "code",
   "execution_count": 48,
   "outputs": [
    {
     "data": {
      "text/plain": "';sw1tp3r1t2!'"
     },
     "execution_count": 48,
     "metadata": {},
     "output_type": "execute_result"
    }
   ],
   "source": [
    "def get_password(param):\n",
    "    password = config.password_translational\n",
    "    if param in pass_apps.keys():\n",
    "        password = pass_apps.get(param)\n",
    "    return password\n",
    "get_password(param)"
   ],
   "metadata": {
    "collapsed": false,
    "pycharm": {
     "name": "#%%\n"
    }
   }
  },
  {
   "cell_type": "code",
   "execution_count": 49,
   "outputs": [
    {
     "data": {
      "text/plain": "'Translational'"
     },
     "execution_count": 49,
     "metadata": {},
     "output_type": "execute_result"
    }
   ],
   "source": [
    "domain_apps = {'sprapps': 'SPR', 'screeningapps': 'Screening', 'dashboard': 'Signals Data Factory Spotfire Connector',\n",
    "               'gemini':'Gemini', 'sdk': 'SDK', 'invivoapps': 'InVivo'}\n",
    "\n",
    "def get_domain(param):\n",
    "    domain = 'Translational'\n",
    "    if param in domain_apps.keys():\n",
    "        domain = domain_apps.get(param)\n",
    "    return domain\n",
    "\n",
    "get_domain(param)"
   ],
   "metadata": {
    "collapsed": false,
    "pycharm": {
     "name": "#%%\n"
    }
   }
  },
  {
   "cell_type": "code",
   "execution_count": null,
   "outputs": [],
   "source": [],
   "metadata": {
    "collapsed": false,
    "pycharm": {
     "name": "#%%\n"
    }
   }
  }
 ],
 "metadata": {
  "kernelspec": {
   "name": "python37764bit418a6713754c478f8ef8248aa446e39e",
   "language": "python",
   "display_name": "Python 3.7.7 64-bit"
  },
  "language_info": {
   "codemirror_mode": {
    "name": "ipython",
    "version": 2
   },
   "file_extension": ".py",
   "mimetype": "text/x-python",
   "name": "python",
   "nbconvert_exporter": "python",
   "pygments_lexer": "ipython2",
   "version": "2.7.6"
  }
 },
 "nbformat": 4,
 "nbformat_minor": 0
}