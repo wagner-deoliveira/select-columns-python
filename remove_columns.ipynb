{
 "cells": [
  {
   "cell_type": "code",
   "execution_count": 2,
   "metadata": {
    "collapsed": true
   },
   "outputs": [
    {
     "name": "stdout",
     "output_type": "stream",
     "text": [
      "-b\n"
     ]
    }
   ],
   "source": [
    "arg = [\"a\", \"b\", \"c\"]\n",
    "metafilter = '-' + arg[1]\n",
    "print(metafilter)"
   ]
  },
  {
   "cell_type": "code",
   "execution_count": 1,
   "outputs": [
    {
     "data": {
      "text/plain": "(109, 53)"
     },
     "execution_count": 1,
     "metadata": {},
     "output_type": "execute_result"
    }
   ],
   "source": [
    "import pandas as pd\n",
    "df = pd.read_csv('ResultsTable.txt', sep='\\t')\n",
    "df.shape"
   ],
   "metadata": {
    "collapsed": false,
    "pycharm": {
     "name": "#%%\n"
    }
   }
  },
  {
   "cell_type": "code",
   "execution_count": 2,
   "outputs": [
    {
     "data": {
      "text/plain": "     Cycle   Curve  Sample          Ligand  org_conc Experiment      Fc  \\\n0  Integer  String  String          String      Real     String  String   \n1        1   Fc1:1  buffer         [Blank]  0.00E+00   T200_006       1   \n2        1   Fc2:1  buffer          buffer  0.00E+00   T200_006       2   \n3        1   Fc3:1  buffer          buffer  0.00E+00   T200_006       3   \n4        1   Fc4:1  buffer  anti-human IgG  0.00E+00   T200_006       4   \n\n  SourceInstrument      conc Replicate  ... Initial_ka Initial_kd Initial_kt  \\\n0           String      Real   Integer  ...       Real       Real       Real   \n1             T200  0.00E+00         1  ...        NaN        NaN        NaN   \n2             T200  0.00E+00         1  ...        NaN        NaN        NaN   \n3             T200  0.00E+00         1  ...        NaN        NaN        NaN   \n4             T200  0.00E+00         1  ...        NaN        NaN        NaN   \n\n  Initial_RI Initial_Rmax Kinetics_Notes       KineticsMethod Ligand_Activity  \\\n0       Real       String         String               String         Boolean   \n1        NaN          NaN            NaN  Multi Cycle Kinetic             NaN   \n2        NaN          NaN            NaN  Multi Cycle Kinetic             NaN   \n3        NaN          NaN            NaN  Multi Cycle Kinetic             NaN   \n4        NaN          NaN            NaN  Multi Cycle Kinetic             NaN   \n\n  Ligand_Activity_CI_Lower Ligand_Activity_CI_Upper  \n0                  Boolean                  Boolean  \n1                      NaN                      NaN  \n2                      NaN                      NaN  \n3                      NaN                      NaN  \n4                      NaN                      NaN  \n\n[5 rows x 53 columns]",
      "text/html": "<div>\n<style scoped>\n    .dataframe tbody tr th:only-of-type {\n        vertical-align: middle;\n    }\n\n    .dataframe tbody tr th {\n        vertical-align: top;\n    }\n\n    .dataframe thead th {\n        text-align: right;\n    }\n</style>\n<table border=\"1\" class=\"dataframe\">\n  <thead>\n    <tr style=\"text-align: right;\">\n      <th></th>\n      <th>Cycle</th>\n      <th>Curve</th>\n      <th>Sample</th>\n      <th>Ligand</th>\n      <th>org_conc</th>\n      <th>Experiment</th>\n      <th>Fc</th>\n      <th>SourceInstrument</th>\n      <th>conc</th>\n      <th>Replicate</th>\n      <th>...</th>\n      <th>Initial_ka</th>\n      <th>Initial_kd</th>\n      <th>Initial_kt</th>\n      <th>Initial_RI</th>\n      <th>Initial_Rmax</th>\n      <th>Kinetics_Notes</th>\n      <th>KineticsMethod</th>\n      <th>Ligand_Activity</th>\n      <th>Ligand_Activity_CI_Lower</th>\n      <th>Ligand_Activity_CI_Upper</th>\n    </tr>\n  </thead>\n  <tbody>\n    <tr>\n      <th>0</th>\n      <td>Integer</td>\n      <td>String</td>\n      <td>String</td>\n      <td>String</td>\n      <td>Real</td>\n      <td>String</td>\n      <td>String</td>\n      <td>String</td>\n      <td>Real</td>\n      <td>Integer</td>\n      <td>...</td>\n      <td>Real</td>\n      <td>Real</td>\n      <td>Real</td>\n      <td>Real</td>\n      <td>String</td>\n      <td>String</td>\n      <td>String</td>\n      <td>Boolean</td>\n      <td>Boolean</td>\n      <td>Boolean</td>\n    </tr>\n    <tr>\n      <th>1</th>\n      <td>1</td>\n      <td>Fc1:1</td>\n      <td>buffer</td>\n      <td>[Blank]</td>\n      <td>0.00E+00</td>\n      <td>T200_006</td>\n      <td>1</td>\n      <td>T200</td>\n      <td>0.00E+00</td>\n      <td>1</td>\n      <td>...</td>\n      <td>NaN</td>\n      <td>NaN</td>\n      <td>NaN</td>\n      <td>NaN</td>\n      <td>NaN</td>\n      <td>NaN</td>\n      <td>Multi Cycle Kinetic</td>\n      <td>NaN</td>\n      <td>NaN</td>\n      <td>NaN</td>\n    </tr>\n    <tr>\n      <th>2</th>\n      <td>1</td>\n      <td>Fc2:1</td>\n      <td>buffer</td>\n      <td>buffer</td>\n      <td>0.00E+00</td>\n      <td>T200_006</td>\n      <td>2</td>\n      <td>T200</td>\n      <td>0.00E+00</td>\n      <td>1</td>\n      <td>...</td>\n      <td>NaN</td>\n      <td>NaN</td>\n      <td>NaN</td>\n      <td>NaN</td>\n      <td>NaN</td>\n      <td>NaN</td>\n      <td>Multi Cycle Kinetic</td>\n      <td>NaN</td>\n      <td>NaN</td>\n      <td>NaN</td>\n    </tr>\n    <tr>\n      <th>3</th>\n      <td>1</td>\n      <td>Fc3:1</td>\n      <td>buffer</td>\n      <td>buffer</td>\n      <td>0.00E+00</td>\n      <td>T200_006</td>\n      <td>3</td>\n      <td>T200</td>\n      <td>0.00E+00</td>\n      <td>1</td>\n      <td>...</td>\n      <td>NaN</td>\n      <td>NaN</td>\n      <td>NaN</td>\n      <td>NaN</td>\n      <td>NaN</td>\n      <td>NaN</td>\n      <td>Multi Cycle Kinetic</td>\n      <td>NaN</td>\n      <td>NaN</td>\n      <td>NaN</td>\n    </tr>\n    <tr>\n      <th>4</th>\n      <td>1</td>\n      <td>Fc4:1</td>\n      <td>buffer</td>\n      <td>anti-human IgG</td>\n      <td>0.00E+00</td>\n      <td>T200_006</td>\n      <td>4</td>\n      <td>T200</td>\n      <td>0.00E+00</td>\n      <td>1</td>\n      <td>...</td>\n      <td>NaN</td>\n      <td>NaN</td>\n      <td>NaN</td>\n      <td>NaN</td>\n      <td>NaN</td>\n      <td>NaN</td>\n      <td>Multi Cycle Kinetic</td>\n      <td>NaN</td>\n      <td>NaN</td>\n      <td>NaN</td>\n    </tr>\n  </tbody>\n</table>\n<p>5 rows × 53 columns</p>\n</div>"
     },
     "execution_count": 2,
     "metadata": {},
     "output_type": "execute_result"
    }
   ],
   "source": [
    "df.head()"
   ],
   "metadata": {
    "collapsed": false,
    "pycharm": {
     "name": "#%%\n"
    }
   }
  },
  {
   "cell_type": "code",
   "execution_count": 4,
   "outputs": [
    {
     "data": {
      "text/plain": "(109, 51)"
     },
     "execution_count": 4,
     "metadata": {},
     "output_type": "execute_result"
    }
   ],
   "source": [
    "new_df = df.drop(['kt', 'kt_SE'], axis='columns')\n",
    "# new_df = df[['X', 'Y', 'Cycle', 'Curve', 'Experiment']]\n",
    "new_df.shape"
   ],
   "metadata": {
    "collapsed": false,
    "pycharm": {
     "name": "#%%\n"
    }
   }
  },
  {
   "cell_type": "code",
   "execution_count": 3,
   "outputs": [
    {
     "ename": "TypeError",
     "evalue": "'Index' object is not callable",
     "output_type": "error",
     "traceback": [
      "\u001B[1;31m---------------------------------------------------------------------------\u001B[0m",
      "\u001B[1;31mTypeError\u001B[0m                                 Traceback (most recent call last)",
      "\u001B[1;32m<ipython-input-3-ea942bf769f0>\u001B[0m in \u001B[0;36m<module>\u001B[1;34m\u001B[0m\n\u001B[1;32m----> 1\u001B[1;33m \u001B[0mdf\u001B[0m\u001B[1;33m.\u001B[0m\u001B[0mcolumns\u001B[0m\u001B[1;33m(\u001B[0m\u001B[1;33m)\u001B[0m\u001B[1;33m\u001B[0m\u001B[1;33m\u001B[0m\u001B[0m\n\u001B[0m",
      "\u001B[1;31mTypeError\u001B[0m: 'Index' object is not callable"
     ]
    }
   ],
   "source": [
    "df.columns()"
   ],
   "metadata": {
    "collapsed": false,
    "pycharm": {
     "name": "#%%\n"
    }
   }
  },
  {
   "cell_type": "code",
   "execution_count": 5,
   "outputs": [],
   "source": [
    "new_df.to_csv(r'ResultsTable2.txt', index=None, sep='\\t', mode='a')"
   ],
   "metadata": {
    "collapsed": false,
    "pycharm": {
     "name": "#%%\n"
    }
   }
  },
  {
   "cell_type": "code",
   "execution_count": 11,
   "outputs": [
    {
     "data": {
      "text/plain": "'15:57:45'"
     },
     "execution_count": 11,
     "metadata": {},
     "output_type": "execute_result"
    }
   ],
   "source": [
    "from datetime import datetime\n",
    "#now = datetime.today().timestamp()\n",
    "now = datetime.now().strftime(\"%H:%M:%S\")\n",
    "now"
   ],
   "metadata": {
    "collapsed": false,
    "pycharm": {
     "name": "#%%\n"
    }
   }
  },
  {
   "cell_type": "code",
   "execution_count": 53,
   "outputs": [
    {
     "data": {
      "text/plain": "[52, 2]"
     },
     "execution_count": 53,
     "metadata": {},
     "output_type": "execute_result"
    }
   ],
   "source": [
    "import re\n",
    "date_test = \"52m 2s\"\n",
    "\n",
    "def hms_to_seconds(str_date):\n",
    "    tup = str_date.split()\n",
    "    data=[]\n",
    "    for i in tup:\n",
    "        temp = re.compile(\"([0-9]+)\")\n",
    "        res = temp.match(i).groups()\n",
    "        res_to_int = int(res[0])\n",
    "        data.append(res_to_int)\n",
    "    return data\n",
    "\n",
    "hms_to_seconds(date_test)"
   ],
   "metadata": {
    "collapsed": false,
    "pycharm": {
     "name": "#%%\n"
    }
   }
  },
  {
   "cell_type": "code",
   "execution_count": 52,
   "outputs": [
    {
     "data": {
      "text/plain": "[2, 2]"
     },
     "execution_count": 52,
     "metadata": {},
     "output_type": "execute_result"
    }
   ],
   "source": [
    "tup = date_test.split()\n",
    "data=[]\n",
    "for i in tup:\n",
    "    temp = re.compile(\"([0-9]+)\")\n",
    "    res = temp.match(i).groups()\n",
    "    res_to_int = int(res[0])\n",
    "    data.append(res_to_int)\n",
    "data"
   ],
   "metadata": {
    "collapsed": false,
    "pycharm": {
     "name": "#%%\n"
    }
   }
  },
  {
   "cell_type": "code",
   "execution_count": 68,
   "outputs": [
    {
     "data": {
      "text/plain": "'121'"
     },
     "execution_count": 68,
     "metadata": {},
     "output_type": "execute_result"
    }
   ],
   "source": [
    "test_Data = \"2m 1s\"\n",
    "def hms_to_seconds(str_date):\n",
    "    string = ''\n",
    "    tup = str_date.split()\n",
    "    data=[]\n",
    "    for i in tup:\n",
    "        temp = re.compile(\"([0-9]+)\")\n",
    "        res = temp.match(i).groups()\n",
    "        res_to_int = int(res[0])\n",
    "        data.append(res_to_int)\n",
    "\n",
    "    if len(data) == 1:\n",
    "        sec = data\n",
    "    elif len(data) == 2:\n",
    "        m, s = data\n",
    "        sec = 60*m + s\n",
    "    else:\n",
    "        h, m, s = data\n",
    "        sec = 3600*h + 60*m + s\n",
    "    ffff = f'{sec}'\n",
    "    return ffff\n",
    "\n",
    "seconds = hms_to_seconds(test_Data)\n",
    "seconds\n",
    "#type(seconds)\n"
   ],
   "metadata": {
    "collapsed": false,
    "pycharm": {
     "name": "#%%\n"
    }
   }
  },
  {
   "cell_type": "code",
   "execution_count": 14,
   "outputs": [
    {
     "data": {
      "text/plain": "'3122'"
     },
     "execution_count": 14,
     "metadata": {},
     "output_type": "execute_result"
    }
   ],
   "source": [
    "import re\n",
    "date_test = \"52m 2s\"\n",
    "def parse_duration_string_to_seconds(str_date: \"duration_string\") -> 'time_in_seconds':\n",
    "    tup = str_date.split()\n",
    "    data = []\n",
    "    for i in tup:\n",
    "        temp = re.compile(\"([0-9]+)\")\n",
    "        res = temp.match(i).groups()\n",
    "        res_to_int = int(res[0])\n",
    "        data.append(res_to_int)\n",
    "\n",
    "    if len(data) == 1:\n",
    "        sec = data[0]\n",
    "    elif len(data) == 2:\n",
    "        m, s = data\n",
    "        sec = 60 * m + s\n",
    "    else:\n",
    "        h, m, s = data\n",
    "        sec = 3600 * h + 60 * m + s\n",
    "\n",
    "    total_seconds = f'{sec}'\n",
    "    return total_seconds\n",
    "\n",
    "seconds = parse_duration_string_to_seconds(date_test)\n",
    "seconds"
   ],
   "metadata": {
    "collapsed": false,
    "pycharm": {
     "name": "#%%\n"
    }
   }
  },
  {
   "cell_type": "code",
   "execution_count": 61,
   "outputs": [
    {
     "data": {
      "text/plain": "'5430'"
     },
     "execution_count": 61,
     "metadata": {},
     "output_type": "execute_result"
    }
   ],
   "source": [
    "test2 = \"1h 30m 30s\"\n",
    "seconds2 = parse_duration_string_to_seconds(test2)\n",
    "seconds2"
   ],
   "metadata": {
    "collapsed": false,
    "pycharm": {
     "name": "#%%\n"
    }
   }
  },
  {
   "cell_type": "code",
   "execution_count": 90,
   "outputs": [
    {
     "data": {
      "text/plain": "{'h': '1', 's': '30'}"
     },
     "execution_count": 90,
     "metadata": {},
     "output_type": "execute_result"
    }
   ],
   "source": [
    "test3 = \"1h 10m 10s\"\n",
    "x = test2.replace(\" \", \"\")\n",
    "dict_new = re.findall('\\d+|\\D+', x)\n",
    "b = dict(zip(dict_new[::2], dict_new[1::2]))\n",
    "inv_map = {v: k for k, v in b.items()}\n",
    "inv_map"
   ],
   "metadata": {
    "collapsed": false,
    "pycharm": {
     "name": "#%%\n"
    }
   }
  },
  {
   "cell_type": "code",
   "execution_count": 79,
   "outputs": [
    {
     "name": "stdout",
     "output_type": "stream",
     "text": [
      "<class 'int'>\n"
     ]
    }
   ],
   "source": [
    "if \"s\" in inv_map:\n",
    "    y = int(inv_map.get(\"s\"))\n",
    "    print(type(y))\n",
    "else:\n",
    "    print(\"not this time\")"
   ],
   "metadata": {
    "collapsed": false,
    "pycharm": {
     "name": "#%%\n"
    }
   }
  },
  {
   "cell_type": "code",
   "execution_count": 124,
   "outputs": [],
   "source": [
    "def parse_duration_string_to_seconds2(str_date: \"duration_string\") -> 'time_in_seconds':\n",
    "    stripped_spaces = str_date.replace(\" \", \"\")\n",
    "    new_dict = re.findall('\\d+|\\D+', stripped_spaces)\n",
    "    nums = new_dict[::2]\n",
    "    keys = new_dict[1::2]\n",
    "    final_dict = dict(zip(keys, nums))\n",
    "    s, m, h = 0, 0, 0\n",
    "    if \"s\" in final_dict:\n",
    "        s = int(final_dict.get(\"s\"))\n",
    "\n",
    "    if \"m\" in final_dict:\n",
    "        m = int(final_dict.get(\"m\")) * 60\n",
    "\n",
    "    if \"h\" in final_dict:\n",
    "        h = int(final_dict.get(\"h\")) * 3600\n",
    "\n",
    "    sec = s + m + h\n",
    "    total_seconds = f'{sec}'\n",
    "\n",
    "    return total_seconds"
   ],
   "metadata": {
    "collapsed": false,
    "pycharm": {
     "name": "#%%\n"
    }
   }
  },
  {
   "cell_type": "code",
   "execution_count": 81,
   "outputs": [
    {
     "data": {
      "text/plain": "list"
     },
     "execution_count": 81,
     "metadata": {},
     "output_type": "execute_result"
    }
   ],
   "source": [
    "type(dict_new)"
   ],
   "metadata": {
    "collapsed": false,
    "pycharm": {
     "name": "#%%\n"
    }
   }
  },
  {
   "cell_type": "code",
   "execution_count": 92,
   "outputs": [],
   "source": [
    "nums = dict_new[::2]\n",
    "keys = dict_new[1::2]\n",
    "new_dict = dict(zip(keys, nums))"
   ],
   "metadata": {
    "collapsed": false,
    "pycharm": {
     "name": "#%%\n"
    }
   }
  },
  {
   "cell_type": "code",
   "execution_count": 93,
   "outputs": [
    {
     "data": {
      "text/plain": "{'h': '1', 'm': '30', 's': '30'}"
     },
     "execution_count": 93,
     "metadata": {},
     "output_type": "execute_result"
    }
   ],
   "source": [
    "new_dict\n"
   ],
   "metadata": {
    "collapsed": false,
    "pycharm": {
     "name": "#%%\n"
    }
   }
  },
  {
   "cell_type": "code",
   "execution_count": 125,
   "outputs": [
    {
     "data": {
      "text/plain": "'4210'"
     },
     "execution_count": 125,
     "metadata": {},
     "output_type": "execute_result"
    }
   ],
   "source": [
    "parse_duration_string_to_seconds2(test3)\n"
   ],
   "metadata": {
    "collapsed": false,
    "pycharm": {
     "name": "#%%\n"
    }
   }
  },
  {
   "cell_type": "code",
   "execution_count": 121,
   "outputs": [
    {
     "data": {
      "text/plain": "'1'"
     },
     "execution_count": 121,
     "metadata": {},
     "output_type": "execute_result"
    }
   ],
   "source": [
    "parse_duration_string_to_seconds2(\"14.01s\")"
   ],
   "metadata": {
    "collapsed": false,
    "pycharm": {
     "name": "#%%\n"
    }
   }
  },
  {
   "cell_type": "code",
   "execution_count": null,
   "outputs": [],
   "source": [],
   "metadata": {
    "collapsed": false,
    "pycharm": {
     "name": "#%%\n"
    }
   }
  }
 ],
 "metadata": {
  "kernelspec": {
   "display_name": "Python 3",
   "language": "python",
   "name": "python3"
  },
  "language_info": {
   "codemirror_mode": {
    "name": "ipython",
    "version": 2
   },
   "file_extension": ".py",
   "mimetype": "text/x-python",
   "name": "python",
   "nbconvert_exporter": "python",
   "pygments_lexer": "ipython2",
   "version": "2.7.6"
  }
 },
 "nbformat": 4,
 "nbformat_minor": 0
}